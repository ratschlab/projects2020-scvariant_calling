{
 "cells": [
  {
   "cell_type": "code",
   "execution_count": null,
   "outputs": [],
   "source": [
    "# Reads the \"ground truth\" mapping from cell id to cell cluster, as provided by Chisel in a TSV file, available at:\n",
    "# https://github.com/raphael-group/chisel-data/blob/master/patientS0/clones/all/mapping.tsv.gz\n",
    "# builds a set of healthy cells\n",
    "\n",
    "print('Reading ground truth clustering and creating Healthy cell list')\n",
    "cell_to_clone = open('/Users/dd/work/svc/data/mappingB.tsv')\n",
    "# cell_to_clone.readline()  # skip header (I just deleted the first line instead)\n",
    "\n",
    "healthy_cell_ids = set()\n",
    "clone_name_to_idx = {}  # maps Chisel clone names to a 0-based idx, e.g. {'Clone401':0, 'Clone2535':1}\n",
    "cell_id_to_clone_idx = {}  # stores {cell_id, clone_idx} pairs, e.g. {'A-AAACCTGAGATCTGCT' : 0, 'A-AAACCTGGTACCGCTG':1}\n",
    "clone_idx = 0\n",
    "\n",
    "for line in cell_to_clone:\n",
    "    els = line.split('\\t')\n",
    "    clone_name = els[2]\n",
    "    cell_id = 'B-' + els[0]\n",
    "    if els[1] == '19':  # Use '2535' for all cells\n",
    "        healthy_cell_ids.add(cell_id)\n",
    "        continue\n",
    "    if clone_name not in clone_name_to_idx:\n",
    "        clone_name_to_idx[clone_name] = clone_idx\n",
    "        clone_idx += 1\n",
    "    cell_id_to_clone_idx[cell_id] = clone_name_to_idx[clone_name]\n",
    "\n",
    "print(f'Found {len(healthy_cell_ids)} healthy cells, {len(cell_id_to_clone_idx)} tumor cells')"
   ],
   "metadata": {
    "collapsed": false,
    "pycharm": {
     "name": "#%%\n"
    }
   }
  },
  {
   "cell_type": "code",
   "execution_count": null,
   "outputs": [],
   "source": [
    "import csv\n",
    "\n",
    "# reading the 40K mutations identified in the Breast Cancer dataset by Chisel (from a TSV file), available at:\n",
    "# https://github.com/raphael-group/chisel-data/blob/master/patientS0/snvs/cellmutations.tsv.gz\n",
    "# and then remove all mutations that are also appearing in at least one healthy cell\n",
    "# Keep only the cell ids that have at least one mutation after this filtering (some tumor cells may only show mutations\n",
    "# that are in common with at least one healthy cell)\n",
    "\n",
    "print('Filtering out mutations found in healthy cells')\n",
    "mutations = []\n",
    "\n",
    "tsv_all_mut = open('/Users/dd/work/svc/data/cellmutations.tsv')\n",
    "read_tsv_all_mut = csv.reader(tsv_all_mut, delimiter='\\t')\n",
    "next(read_tsv_all_mut, None)  # skip header\n",
    "\n",
    "cell_ids_with_mutations = set()\n",
    "\n",
    "for row in read_tsv_all_mut:\n",
    "    cell_ids = row[5].split(',')\n",
    "    cell_ids = [c for c in cell_ids if c.startswith('B-')] # remove this when doing all cells\n",
    "    healthy_count = 0\n",
    "    for cell_id in cell_ids:\n",
    "        if cell_id in healthy_cell_ids:\n",
    "            healthy_count += 1\n",
    "\n",
    "    if healthy_count >= 1:\n",
    "        continue\n",
    "\n",
    "    chromosome = row[0]\n",
    "    pos = row[1]\n",
    "    cell_ids_with_mutations.update(cell_ids)\n",
    "    mutations.append((chromosome, pos, cell_ids))\n",
    "\n",
    "print(f'Found {len(cell_ids_with_mutations)} tumor cells that have no mutations in common with healthy cells')\n",
    "print(f'Found {len(mutations)} cancer mutations: {mutations}')\n",
    "\n",
    "cell_id_to_idx = {}  # maps cell ids to a 0-based index\n",
    "cell_idx_to_id = {}  # the inverse of cell_id_to_idx\n",
    "cell_idx = 0\n",
    "for cell_id in cell_ids_with_mutations:\n",
    "    if cell_id in healthy_cell_ids:\n",
    "        continue\n",
    "    cell_id_to_idx[cell_id] = cell_idx\n",
    "    cell_idx_to_id[cell_idx] = cell_id\n",
    "    cell_idx += 1\n"
   ],
   "metadata": {
    "collapsed": false,
    "pycharm": {
     "name": "#%%\n"
    }
   }
  },
  {
   "cell_type": "code",
   "execution_count": null,
   "outputs": [],
   "source": [
    "# Generate a mapping that groups multiple cells together based on the Chisel \"ground truth\"\n",
    "# This way we can simulate higher coverage in silico\n",
    "\n",
    "# how many cells of the same type to merge together\n",
    "merge_count = 12\n",
    "\n",
    "print(f'Grouping {merge_count} cells together in order to increase coverage')\n",
    "\n",
    "cell_id_to_group = {}\n",
    "id_to_count = {}\n",
    "group_count = 0\n",
    "\n",
    "for cell_idx in range(len(cell_idx_to_id)):\n",
    "    cell_id = cell_idx_to_id[cell_idx]\n",
    "    clone_idx = cell_id_to_clone_idx[cell_id]\n",
    "    if clone_idx not in id_to_count:\n",
    "        id_to_count[clone_idx] = []\n",
    "\n",
    "    id_to_count[clone_idx].append(cell_id)\n",
    "\n",
    "    if len(id_to_count[clone_idx]) == merge_count:\n",
    "        for cell_id in id_to_count[clone_idx]:\n",
    "            cell_id_to_group[cell_id] = group_count\n",
    "        group_count += 1\n",
    "        del id_to_count[clone_idx]\n",
    "\n",
    "print(f'Creating {group_count} complete groups and {len(id_to_count)} incomplete groups')\n",
    "\n",
    "print(id_to_count.values())\n",
    "\n",
    "# add incomplete groups\n",
    "for cells in id_to_count.values():\n",
    "    for cell_id in cells:\n",
    "        cell_id_to_group[cell_id] = group_count\n",
    "    group_count += 1\n",
    "\n",
    "print(f'Group count is {group_count}')\n",
    "\n"
   ],
   "metadata": {
    "collapsed": false,
    "pycharm": {
     "name": "#%%\n"
    }
   }
  },
  {
   "cell_type": "code",
   "execution_count": null,
   "outputs": [],
   "source": [
    "print('Creating SBMClone input file...')\n",
    "\n",
    "sbm_file = open('/Users/dd/work/svc/data/sbm_input', 'w')\n",
    "all_group_ids = set()\n",
    "el_count = 0\n",
    "for count, mutation in enumerate(mutations):\n",
    "    cell_ids = mutation[2]\n",
    "    group_ids = set()  # two cells may map to the same group which would cause duplicate entries that upset SBMClone\n",
    "    for cell_id in cell_ids:\n",
    "        group_id = cell_id_to_group[cell_id]\n",
    "        if group_id not in group_ids:\n",
    "            group_ids.add(group_id)\n",
    "            sbm_file.write(f'{group_id},{count}\\n')\n",
    "            el_count += 1\n",
    "    all_group_ids.update(group_ids)\n",
    "\n",
    "sbm_file.close()\n",
    "print(\n",
    "    f'Created SBMClone input file with {len(all_group_ids)} cells, {count + 1} mutations and {el_count} matrix elements')"
   ],
   "metadata": {
    "collapsed": false,
    "pycharm": {
     "name": "#%%\n"
    }
   }
  },
  {
   "cell_type": "code",
   "execution_count": null,
   "outputs": [],
   "source": [
    "# Parse the SBM Clone output (run via 'python ~/work/sbmclone/sbmclone.py sbm_input'), assign the clusters\n",
    "# to cells and compare to the Chisel ground truth clustering (via the ARI score)\n",
    "\n",
    "from sklearn.metrics import adjusted_rand_score as ari\n",
    "\n",
    "print('Mapping back SBMClone output to cell ids and comparing with Chisel ground truth')\n",
    "sbm_group_clusters = open('/Users/dd/work/svc/data/output/cluster-assignments.txt').readline().split(',')\n",
    "print(f'SBMClone clustered {len(sbm_group_clusters)} cell groups')\n",
    "print(f'Expanding group clustering to {len(cell_id_to_clone_idx)} cells...')\n",
    "\n",
    "sbm_cell_clusters = [None] * len(cell_id_to_idx)\n",
    "print(cell_id_to_group)\n",
    "for cell_id, cell_idx in cell_id_to_idx.items():\n",
    "    sbm_cell_clusters[cell_idx] = sbm_group_clusters[cell_id_to_group[cell_idx_to_id[cell_idx]]]\n",
    "\n",
    "open(f'/Users/dd/work/svc/data/output/cluster-assignments-per-cell_9x.txt', 'w').write(','.join(sbm_cell_clusters))\n",
    "\n",
    "print('Evaluating SBMClone performance...')\n",
    "chisel_clusters = []\n",
    "for i, cluster in enumerate(sbm_cell_clusters):\n",
    "    cell_id = cell_idx_to_id[i]\n",
    "    chisel_clusters.append(cell_id_to_clone_idx[cell_id])\n",
    "print(f'ARI Score {ari(sbm_cell_clusters, chisel_clusters)}')"
   ],
   "metadata": {
    "collapsed": false,
    "pycharm": {
     "name": "#%%\n"
    }
   }
  }
 ],
 "metadata": {
  "kernelspec": {
   "name": "python3",
   "language": "python",
   "display_name": "Python 3 (ipykernel)"
  },
  "language_info": {
   "codemirror_mode": {
    "name": "ipython",
    "version": 2
   },
   "file_extension": ".py",
   "mimetype": "text/x-python",
   "name": "python",
   "nbconvert_exporter": "python",
   "pygments_lexer": "ipython2",
   "version": "2.7.6"
  }
 },
 "nbformat": 4,
 "nbformat_minor": 0
}