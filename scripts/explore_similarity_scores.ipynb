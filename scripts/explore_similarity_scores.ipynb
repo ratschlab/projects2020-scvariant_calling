{
 "cells": [
  {
   "cell_type": "code",
   "execution_count": null,
   "metadata": {
    "ExecuteTime": {
     "end_time": "2020-11-13T09:04:08.212175Z",
     "start_time": "2020-11-13T09:04:08.207061Z"
    }
   },
   "outputs": [],
   "source": [
    "import re\n",
    "from pathlib import Path\n",
    "import pandas as pd\n",
    "\n",
    "from ratschlab_common.viz import create_grid, clean_axes_grid\n",
    "import matplotlib.pyplot as plt"
   ]
  },
  {
   "cell_type": "code",
   "execution_count": null,
   "metadata": {
    "ExecuteTime": {
     "end_time": "2020-11-13T08:38:37.396075Z",
     "start_time": "2020-11-13T08:38:37.391947Z"
    }
   },
   "outputs": [],
   "source": [
    "wdir = Path('/cluster/work/grlab/projects/projects2019-supervario/')"
   ]
  },
  {
   "cell_type": "code",
   "execution_count": null,
   "metadata": {
    "ExecuteTime": {
     "end_time": "2020-11-13T09:36:41.810522Z",
     "start_time": "2020-11-13T09:36:39.550330Z"
    }
   },
   "outputs": [],
   "source": [
    "path_lut = {\n",
    "    '10xbreast': wdir/'10x_data_breastcancer/sliceB/processed_files/matrices_homoProp0.5_epsilon0.001_theta0.01/simMat_diff.csv',\n",
    "    '10xbreast8cell': wdir/'10x_data_breastcancer/sliceB/processed_files/matrices_8cells/simMat_diff.csv',\n",
    "    'varsim005x': wdir/'hana_varsim_data/matrices_h0.15/simMat_diff.csv',\n",
    "    'varsim01x': wdir/'hana_varsim_data/matrices_cov0.1/simMat_diff.csv',\n",
    "    'varsim02x': wdir/'hana_varsim_data/matrices_cov0.2/simMat_diff.csv'\n",
    "}\n",
    "\n",
    "data_lut = {\n",
    "    key: -pd.read_csv(path, header=None).values\n",
    "    for key, path\n",
    "    in path_lut.items()\n",
    "}"
   ]
  },
  {
   "cell_type": "code",
   "execution_count": null,
   "metadata": {
    "ExecuteTime": {
     "end_time": "2020-11-13T10:00:52.365223Z",
     "start_time": "2020-11-13T10:00:52.356794Z"
    }
   },
   "outputs": [],
   "source": [
    "def split_hist(ax, data, **kwargs):\n",
    "    healthy = np.arange(data.shape[0]) < data.shape[0]//2\n",
    "\n",
    "    ax.hist(data[healthy][:, healthy].ravel(), label='healthy', **kwargs)\n",
    "    ax.hist(data[~healthy][:, ~healthy].ravel(), label='tumor', **kwargs)\n",
    "    ax.hist(data[healthy][:, ~healthy].ravel(), label='mismatch', **kwargs)\n",
    "    return ax"
   ]
  },
  {
   "cell_type": "code",
   "execution_count": null,
   "metadata": {
    "ExecuteTime": {
     "end_time": "2020-11-13T09:36:43.251974Z",
     "start_time": "2020-11-13T09:36:41.920003Z"
    }
   },
   "outputs": [],
   "source": [
    "fig, axes = create_grid(len(data_lut), 2)\n",
    "\n",
    "for ax, (key, data) in zip(axes.ravel(), data_lut.items()):\n",
    "    ax.hist(data.ravel(), bins=50)\n",
    "    ax.set_title(key)\n",
    "clean_axes_grid(axes)"
   ]
  },
  {
   "cell_type": "code",
   "execution_count": null,
   "metadata": {
    "ExecuteTime": {
     "end_time": "2020-11-13T09:36:44.309712Z",
     "start_time": "2020-11-13T09:36:43.253989Z"
    }
   },
   "outputs": [],
   "source": [
    "fig, axes = create_grid(len(data_lut), 2)\n",
    "for ax, (key, data) in zip(axes.ravel(), data_lut.items()):\n",
    "    data = data.copy()\n",
    "    ax.imshow(data)\n",
    "clean_axes_grid(axes)"
   ]
  },
  {
   "cell_type": "code",
   "execution_count": null,
   "metadata": {
    "ExecuteTime": {
     "end_time": "2020-11-13T09:36:45.719274Z",
     "start_time": "2020-11-13T09:36:44.311839Z"
    }
   },
   "outputs": [],
   "source": [
    "fig, axes = create_grid(len(data_lut), 2)\n",
    "for ax, (key, data) in zip(axes.ravel(), data_lut.items()):\n",
    "    data = data.copy()\n",
    "    data[data > 0] = 0\n",
    "    ax.hist(data.ravel() / data.std(), bins=50)\n",
    "    ax.set_title(key)\n",
    "clean_axes_grid(axes)"
   ]
  },
  {
   "cell_type": "code",
   "execution_count": null,
   "metadata": {
    "ExecuteTime": {
     "end_time": "2020-11-13T09:36:47.789656Z",
     "start_time": "2020-11-13T09:36:47.785270Z"
    }
   },
   "outputs": [],
   "source": [
    "preproc_list = ['cut', 'zscore-exp_beta0.5', 'shift']\n"
   ]
  },
  {
   "cell_type": "code",
   "execution_count": null,
   "metadata": {
    "ExecuteTime": {
     "end_time": "2020-11-13T09:36:47.917861Z",
     "start_time": "2020-11-13T09:36:47.908977Z"
    }
   },
   "outputs": [],
   "source": [
    "def preproc(key, data):\n",
    "    if key == 'cut':\n",
    "        data[data < 0] = 0\n",
    "        \n",
    "    elif key == 'shift':\n",
    "        data = data - data.min()\n",
    "    \n",
    "    elif key.startswith('zscore-exp_beta'):\n",
    "        beta = float(key.replace('zscore-exp_beta', ''))\n",
    "        data = zscore(data)\n",
    "        data = np.exp(beta * data)\n",
    "    else:\n",
    "        raise ValueError\n",
    "    \n",
    "    return data"
   ]
  },
  {
   "cell_type": "code",
   "execution_count": null,
   "metadata": {
    "ExecuteTime": {
     "end_time": "2020-11-13T09:36:48.447867Z",
     "start_time": "2020-11-13T09:36:48.441216Z"
    }
   },
   "outputs": [],
   "source": [
    "import numpy as np\n",
    "def zscore(data):\n",
    "    data = data - data.mean()\n",
    "    data = data / data.std()\n",
    "    return data"
   ]
  },
  {
   "cell_type": "code",
   "execution_count": null,
   "metadata": {
    "ExecuteTime": {
     "end_time": "2020-11-13T10:02:33.811561Z",
     "start_time": "2020-11-13T10:02:25.567432Z"
    },
    "scrolled": false
   },
   "outputs": [],
   "source": [
    "for beta in [0.1, 0.25, 0.5]:\n",
    "    fig, axes = create_grid(len(data_lut), 2)\n",
    "    for ax, (key, data) in zip(axes.ravel(), data_lut.items()):\n",
    "        data = data.copy()\n",
    "        data = zscore(data)\n",
    "        data = np.exp(beta * data)\n",
    "        split_hist(ax, data, bins=50, range=(0,3), alpha=0.5)\n",
    "        ax.set_title(key)\n",
    "        if ax in axes[:, 0]:\n",
    "            ax.legend()\n",
    "    clean_axes_grid(axes)"
   ]
  },
  {
   "cell_type": "code",
   "execution_count": null,
   "metadata": {
    "ExecuteTime": {
     "end_time": "2020-11-13T09:45:49.873762Z",
     "start_time": "2020-11-13T09:45:43.247406Z"
    }
   },
   "outputs": [],
   "source": [
    "labels = dict()\n",
    "for key, data in data_lut.items():\n",
    "    for pp in ['zscore-exp_beta0.5', 'zscore-exp_beta0.1', 'zscore-exp_beta0.25']:\n",
    "        print(key, pp)\n",
    "        data = preproc(pp, data.copy())\n",
    "        model = SpectralClustering(2, affinity='precomputed', n_init=100, random_state=15)\n",
    "        model.fit(data)\n",
    "        labels[f'{key}-{pp}'] = model.labels_"
   ]
  },
  {
   "cell_type": "code",
   "execution_count": null,
   "metadata": {
    "ExecuteTime": {
     "end_time": "2020-11-13T09:45:51.956087Z",
     "start_time": "2020-11-13T09:45:51.940209Z"
    }
   },
   "outputs": [],
   "source": [
    "for key, label in labels.items():\n",
    "    print(key, label[:label.size//2].mean(), label[label.size//2:].mean())"
   ]
  }
 ],
 "metadata": {
  "kernelspec": {
   "display_name": "Python 3",
   "language": "python",
   "name": "python3"
  },
  "language_info": {
   "codemirror_mode": {
    "name": "ipython",
    "version": 3
   },
   "file_extension": ".py",
   "mimetype": "text/x-python",
   "name": "python",
   "nbconvert_exporter": "python",
   "pygments_lexer": "ipython3",
   "version": "3.7.3"
  }
 },
 "nbformat": 4,
 "nbformat_minor": 4
}
