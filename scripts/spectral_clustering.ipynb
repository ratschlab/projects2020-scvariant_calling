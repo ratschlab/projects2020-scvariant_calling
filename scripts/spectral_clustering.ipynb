{
 "cells": [
  {
   "cell_type": "code",
   "execution_count": null,
   "id": "received-campus",
   "metadata": {
    "ExecuteTime": {
     "end_time": "2021-03-17T21:41:28.016810Z",
     "start_time": "2021-03-17T21:41:27.860005Z"
    }
   },
   "outputs": [],
   "source": [
    "# performs spectral clustering on a matrix; used to compare the Python and C++ versions\n",
    "\n",
    "from datetime import datetime\n",
    "import numpy as np\n",
    "import math\n",
    "import scipy.special\n",
    "from scipy.sparse.csgraph import laplacian as csgraph_laplacian\n",
    "import random\n",
    "from sklearn.mixture import GaussianMixture\n",
    "from sklearn.cluster import SpectralClustering\n",
    "from sklearn.cluster import KMeans\n",
    "\n",
    "random.seed(datetime.now())\n",
    "\n",
    "num_cells = 50\n",
    "num_groups = 2\n",
    "num_eigenvectors = 5 # number of eigenvectors to use for spectral clustering\n",
    "\n",
    "a = np.ones((num_cells,num_cells)) - np.identity(num_cells)\n",
    "a = a + np.random.uniform(low=-1e-1, high=1e-1, size=(num_cells, num_cells))\n",
    "\n",
    "for i in range(0, num_cells):\n",
    "    for j in range(0, i):\n",
    "        a[i,j] = a[j,i]\n",
    "\n",
    "a = np.kron(np.eye(num_groups),a) # repeats a num_groups time diagonally to simulate the groups\n",
    "\n",
    "L = csgraph_laplacian(a, normed=True)\n",
    "\n",
    "eigenvalues, eigenvectors = np.linalg.eig(L)\n",
    "idx = eigenvalues.argsort()\n",
    "eigenvalues = eigenvalues[idx]\n",
    "eigenvectors = eigenvectors[:, idx]\n",
    "\n",
    "\n",
    "cell_coord = eigenvectors[:, range(1, num_eigenvectors+1)]\n",
    "    # cell_coord = eigenvectors[:,1].reshape(-1,1)\n",
    "    \n",
    "for n_components in range(1,4):\n",
    "    gmm = GaussianMixture(n_components=n_components, n_init=1, random_state=29, init_params='random')\n",
    "    gmm.fit(cell_coord)\n",
    "    aic_1 = gmm.aic(cell_coord)\n",
    "    bic_1 = gmm.bic(cell_coord)\n",
    "    print(f'aic/bic for GMM{n_components} {aic_1:5.2f} {bic_1:5.2f}')\n",
    "    print(f'Log likelihood {gmm.score(cell_coord):5.2f}')\n",
    "    print(f'Probabilities {gmm.predict_proba(cell_coord)}')\n",
    "    # print(f'Means {gmm.means_}')\n",
    "    # print(f'Number of parameters for the model: {gmm._n_parameters()}')\n",
    "    # print(f'Scores per sample: {gmm_1.score_samples(cell_coord)}')\n",
    "    \n",
    "sc = SpectralClustering(2, affinity='precomputed', n_init=100, random_state=15, assign_labels='kmeans')\n",
    "sc.fit(a)\n",
    "print(f'Spectral clustering results: {sc.labels_}')\n",
    "    "
   ]
  },
  {
   "cell_type": "code",
   "execution_count": null,
   "id": "posted-academy",
   "metadata": {
    "ExecuteTime": {
     "end_time": "2021-03-17T07:25:58.458323Z",
     "start_time": "2021-03-17T07:25:58.143765Z"
    }
   },
   "outputs": [],
   "source": [
    "%matplotlib inline\n",
    "import matplotlib.pyplot as plt\n",
    "plt.style.use('seaborn-whitegrid')\n",
    "\n",
    "fig, axes = plt.subplots(2)\n",
    "\n",
    "\n",
    "axes[0].scatter(eigenvectors[:,1], eigenvectors[:,2], marker='o')\n",
    "\n",
    "x = range(0, eigenvectors.shape[0])\n",
    "axes[1].plot(x, eigenvectors[:,1])"
   ]
  },
  {
   "cell_type": "code",
   "execution_count": null,
   "id": "worse-championship",
   "metadata": {},
   "outputs": [],
   "source": []
  },
  {
   "cell_type": "code",
   "execution_count": null,
   "id": "about-indie",
   "metadata": {},
   "outputs": [],
   "source": []
  }
 ],
 "metadata": {
  "kernelspec": {
   "display_name": "Python 3",
   "language": "python",
   "name": "python3"
  },
  "language_info": {
   "codemirror_mode": {
    "name": "ipython",
    "version": 3
   },
   "file_extension": ".py",
   "mimetype": "text/x-python",
   "name": "python",
   "nbconvert_exporter": "python",
   "pygments_lexer": "ipython3",
   "version": "3.7.3"
  }
 },
 "nbformat": 4,
 "nbformat_minor": 5
}
